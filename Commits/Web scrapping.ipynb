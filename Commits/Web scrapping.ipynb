{
 "cells": [
  {
   "cell_type": "markdown",
   "metadata": {},
   "source": [
    "# Scrapping Indeed "
   ]
  },
  {
   "cell_type": "code",
   "execution_count": 1,
   "metadata": {
    "collapsed": true
   },
   "outputs": [],
   "source": [
    "import urllib.request as urllib2\n",
    "from bs4 import BeautifulSoup"
   ]
  },
  {
   "cell_type": "code",
   "execution_count": 2,
   "metadata": {
    "collapsed": true
   },
   "outputs": [],
   "source": [
    "baseLink = \"https://www.indeed.com\"\n",
    "link1 = \"https://www.indeed.com/resumes?q=machine+learning&l=Mumbai%2C+Maharashtra&cb=jt\"\n",
    "link2 = \"https://www.indeed.com/r/Rahul-Tripathi/3cf9ec868b63257b?sp=0\"\n",
    "page1 = urllib2.urlopen(link1)\n",
    "page2 = urllib2.urlopen(link2)\n",
    "soup1 = BeautifulSoup(page1, 'html.parser')\n",
    "soup2 = BeautifulSoup(page2, 'html.parser')"
   ]
  },
  {
   "cell_type": "code",
   "execution_count": 3,
   "metadata": {},
   "outputs": [
    {
     "name": "stdout",
     "output_type": "stream",
     "text": [
      "16\n",
      "<a class=\"app_link\" data-tn-element=\"resume-result-link[]\" data-tn-link=\"\" href=\"/r/25e7f673d10eb353?sp=0\" itemprop=\"name\" rel=\"nofollow\" target=\"_blank\">Machine Learning Engineer (Internship)</a>\n",
      "https://www.indeed.com/r/25e7f673d10eb353?sp=0\n",
      "<a class=\"app_link\" data-tn-element=\"resume-result-link[]\" data-tn-link=\"\" href=\"/r/3c38f17c9e016c47?sp=0\" itemprop=\"name\" rel=\"nofollow\" target=\"_blank\">Senior Data Scientist, Artificial Intelligence and Machine Learning</a>\n",
      "https://www.indeed.com/r/3c38f17c9e016c47?sp=0\n",
      "<a class=\"app_link\" data-tn-element=\"resume-result-link[]\" data-tn-link=\"\" href=\"/r/af286390ab1409db?sp=0\" itemprop=\"name\" rel=\"nofollow\" target=\"_blank\">Machine Learning and Data Science</a>\n",
      "https://www.indeed.com/r/af286390ab1409db?sp=0\n",
      "<a class=\"app_link\" data-tn-element=\"resume-result-link[]\" data-tn-link=\"\" href=\"/r/df8aeb58854fe138?sp=0\" itemprop=\"name\" rel=\"nofollow\" target=\"_blank\">Machine Learning Developer</a>\n",
      "https://www.indeed.com/r/df8aeb58854fe138?sp=0\n",
      "<a class=\"app_link\" data-tn-element=\"resume-result-link[]\" data-tn-link=\"\" href=\"/r/bb87dc8e80ca9a5a?sp=0\" itemprop=\"name\" rel=\"nofollow\" target=\"_blank\">Machine Learning Engineer (Intern)</a>\n",
      "https://www.indeed.com/r/bb87dc8e80ca9a5a?sp=0\n",
      "<a class=\"app_link\" data-tn-element=\"resume-result-link[]\" data-tn-link=\"\" href=\"/r/61bfc615d9ef69c2?sp=0\" itemprop=\"name\" rel=\"nofollow\" target=\"_blank\">Machine Learning Scientist</a>\n",
      "https://www.indeed.com/r/61bfc615d9ef69c2?sp=0\n",
      "<a class=\"app_link\" data-tn-element=\"resume-result-link[]\" data-tn-link=\"\" href=\"/r/7bbd918a4064c540?sp=0\" itemprop=\"name\" rel=\"nofollow\" target=\"_blank\">Data Scientist</a>\n",
      "https://www.indeed.com/r/7bbd918a4064c540?sp=0\n",
      "<a class=\"app_link\" data-tn-element=\"resume-result-link[]\" data-tn-link=\"\" href=\"/r/6698034569eab2ae?sp=0\" itemprop=\"name\" rel=\"nofollow\" target=\"_blank\">Machine learning Engineer</a>\n",
      "https://www.indeed.com/r/6698034569eab2ae?sp=0\n",
      "<a class=\"app_link\" data-tn-element=\"resume-result-link[]\" data-tn-link=\"\" href=\"/r/47b3a726318b673e?sp=0\" itemprop=\"name\" rel=\"nofollow\" target=\"_blank\">Machine Learning Engineer Intern</a>\n",
      "https://www.indeed.com/r/47b3a726318b673e?sp=0\n",
      "<a class=\"app_link\" data-tn-element=\"resume-result-link[]\" data-tn-link=\"\" href=\"/r/5682e6f8b7e489eb?sp=0\" itemprop=\"name\" rel=\"nofollow\" target=\"_blank\">Co-Founder -IIT-Bombay NLP and Machine Learning based startup</a>\n",
      "https://www.indeed.com/r/5682e6f8b7e489eb?sp=0\n",
      "<a class=\"app_link\" data-tn-element=\"resume-result-link[]\" data-tn-link=\"\" href=\"/r/97211747c3dd1245?sp=0\" itemprop=\"name\" rel=\"nofollow\" target=\"_blank\">Department Coordinator CSE, ISCP2017</a>\n",
      "https://www.indeed.com/r/97211747c3dd1245?sp=0\n",
      "<a class=\"app_link\" data-tn-element=\"resume-result-link[]\" data-tn-link=\"\" href=\"/r/0d337470c964c482?sp=0\" itemprop=\"name\" rel=\"nofollow\" target=\"_blank\">Data Science,machine learning</a>\n",
      "https://www.indeed.com/r/0d337470c964c482?sp=0\n",
      "<a class=\"app_link\" data-tn-element=\"resume-result-link[]\" data-tn-link=\"\" href=\"/r/e326f2c51ceb4129?sp=0\" itemprop=\"name\" rel=\"nofollow\" target=\"_blank\">Data Scientist</a>\n",
      "https://www.indeed.com/r/e326f2c51ceb4129?sp=0\n",
      "<a class=\"app_link\" data-tn-element=\"resume-result-link[]\" data-tn-link=\"\" href=\"/r/0e4152217252e012?sp=0\" itemprop=\"name\" rel=\"nofollow\" target=\"_blank\">Internship</a>\n",
      "https://www.indeed.com/r/0e4152217252e012?sp=0\n",
      "<a class=\"app_link\" data-tn-element=\"resume-result-link[]\" data-tn-link=\"\" href=\"/r/5864b761ad1c2023?sp=0\" itemprop=\"name\" rel=\"nofollow\" target=\"_blank\">M.tech Project in Machine Learning and Information Extraction</a>\n",
      "https://www.indeed.com/r/5864b761ad1c2023?sp=0\n",
      "<a class=\"app_link\" data-tn-element=\"resume-result-link[]\" data-tn-link=\"\" href=\"/me/aniruddhatammewar?sp=0\" itemprop=\"name\" rel=\"nofollow\" target=\"_blank\">Machine Learning Researcher</a>\n",
      "https://www.indeed.com/me/aniruddhatammewar?sp=0\n"
     ]
    }
   ],
   "source": [
    "jumpLinks = soup1.find_all('a', class_ = \"app_link\") \n",
    "print(len(jumpLinks))\n",
    "i=0\n",
    "\n",
    "for link in jumpLinks:\n",
    "#     print(link.get('href'))\n",
    "    print(link)\n",
    "    CVlink = baseLink + link.get('href')\n",
    "    print(CVlink)\n",
    "    CVpage = urllib2.urlopen(CVlink)\n",
    "    CVsoup = BeautifulSoup(CVpage, 'html.parser')"
   ]
  },
  {
   "cell_type": "code",
   "execution_count": 15,
   "metadata": {},
   "outputs": [
    {
     "data": {
      "text/plain": [
       "<a class=\"app_link\" data-tn-element=\"resume-result-link[]\" data-tn-link=\"\" href=\"/r/af286390ab1409db?sp=0\" itemprop=\"name\" rel=\"nofollow\" target=\"_blank\">Machine Learning and Data Science</a>"
      ]
     },
     "execution_count": 15,
     "metadata": {},
     "output_type": "execute_result"
    }
   ],
   "source": [
    "jumpLinks[2]"
   ]
  },
  {
   "cell_type": "code",
   "execution_count": 6,
   "metadata": {},
   "outputs": [
    {
     "name": "stdout",
     "output_type": "stream",
     "text": [
      "Resume -> https://drive.google.com/open?id=1cYl-XPI8aZwQ3HqNYLg1LAAuDhTrfga0\n",
      "Bengaluru, Karnataka\n",
      "<p class=\"summary\" id=\"res_summary\">\"My career objective is to work for a detail oriented organization that believes in setting standards through continuous innovations <br/>in the field of technological excellence and to prove myself as a valuable asset.\"</p>\n",
      "Work Experience\n",
      "Accenture\n",
      "December 2015 to Present\n",
      "B.E\n",
      "LNCT\n",
      "NLP (Less than 1 year)\n"
     ]
    }
   ],
   "source": [
    "### 2nd PAGE\n",
    "soup = soup2\n",
    "print(soup.find(id=\"headline\").string)\n",
    "print(soup.find(id=\"headline_location\").string)\n",
    "print(soup.find(id=\"res_summary\"))\n",
    "print(soup.find_all('div', class_ = \"section_title\")[0].string) ## WORK EXPERIENCE TITLE  ####  USE FOR LOOP here !!!\n",
    "print(soup.find('div', class_ = \"work_company\").string)  ## working company\n",
    "print(soup.find('p', class_ = \"work_dates\").string)  ## Working duration\n",
    "print(soup.find('p', class_ = \"edu_title\").string)  ## Bachleor info.\n",
    "print(soup.find('div', class_ = \"edu_school\").string)  ## Bachleor colllege\n",
    "print(soup.find_all('span', class_ = \"skill-text\")[0].string)   ## We have to use for loop here\n"
   ]
  },
  {
   "cell_type": "code",
   "execution_count": null,
   "metadata": {
    "collapsed": true
   },
   "outputs": [],
   "source": []
  }
 ],
 "metadata": {
  "anaconda-cloud": {},
  "kernelspec": {
   "display_name": "Python 3",
   "language": "python",
   "name": "python3"
  },
  "language_info": {
   "codemirror_mode": {
    "name": "ipython",
    "version": 3
   },
   "file_extension": ".py",
   "mimetype": "text/x-python",
   "name": "python",
   "nbconvert_exporter": "python",
   "pygments_lexer": "ipython3",
   "version": "3.6.3"
  }
 },
 "nbformat": 4,
 "nbformat_minor": 2
}
