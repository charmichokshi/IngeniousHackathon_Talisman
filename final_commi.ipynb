{
 "cells": [
  {
   "cell_type": "code",
   "execution_count": 2,
   "metadata": {
    "collapsed": true
   },
   "outputs": [],
   "source": [
    "#import all required libraries\n",
    "import numpy as np\n",
    "import pandas as pd\n",
    "import ipywidgets as widgets\n",
    "from IPython.display import display"
   ]
  },
  {
   "cell_type": "code",
   "execution_count": 3,
   "metadata": {
    "collapsed": true
   },
   "outputs": [],
   "source": [
    "#data dictionary\n",
    "\n",
    "#list of fields\n",
    "field = ['Data Science','Software development','Game dvelopment']"
   ]
  },
  {
   "cell_type": "code",
   "execution_count": 4,
   "metadata": {
    "collapsed": true
   },
   "outputs": [],
   "source": [
    "#list of domains\n",
    "domain = [['Data Analyst','Machine Learning','Computer Vision'],\n",
    "          ['Web Development(Front End)', 'Android Development','iOS Development'],\n",
    "         ['Unity Game Development','Android Game Development', 'iOS Game Development']]"
   ]
  },
  {
   "cell_type": "code",
   "execution_count": 5,
   "metadata": {
    "collapsed": true
   },
   "outputs": [],
   "source": [
    "#ideal skills\n",
    "skills = [   ### Data Analyst\n",
    "           [{'excel':1,'data_visualization':1,'statistics':1,'python':2,'r':2,'scripting':1,\n",
    "            'data_warehousing':2,'sql':2,'pig':2,'hive':2,'data_mining':1,\n",
    "            'tableau':2,'matlab':2},\n",
    "            #### Machine Learning\n",
    "           {'statistics':1,'linear_algebra':1,'sql':2,'scikit_learn':1,'keras':2,'tensorflow':2,\n",
    "            'theano':2,'python':1,'r':2,'hadoop':2,'hbase':2,'pig':2},\n",
    "            #### Computer Vision\n",
    "           {'statistics':1,'linear_algebra':1,'scikit_learn':1,'keras':1,'tensorflow':1,\n",
    "            'theano':2,'python':1,'optimization':2,'deep_learning':1,\n",
    "             'image_processing':1,'digital_signal_processing':1,'opencv':1}],\n",
    "            #### Web Development(Front End)\n",
    "            [{'html':1,'css':1,'javascript':1,'jquery':2,'bootstrap':2,'angular_js':1,'kendo_ui':2,'sinon_js':2,'wordpress':2,\n",
    "             'mysql':1, 'node.js':1,'mvc':1, 'asp.net':1,'ajax':1, 'jquery':1,'laravel':2,'codeignitor':2 },\n",
    "            #### Android Development\n",
    "             {'java':1,'xml':1,'android':1,'android-studio':1,'sql':1,'rest':2, 'soap':2,'json':1,\n",
    "              'android_sdk':1,'web_services':1},\n",
    "            #### iOS Development\n",
    "              {'xcode':1,'swift':1,'objective_c':1,'cocoa_touch':1,'uikit':1,'rest_api':1,'xctest':2,\n",
    "               'coredata':2,'json':2,'shell_scripting':1,'selenium':2,'ios':1}\n",
    "            ],\n",
    "    \n",
    "          [{},{},{}] #game dev\n",
    "         ]\n",
    "         \n",
    "         "
   ]
  },
  {
   "cell_type": "code",
   "execution_count": 6,
   "metadata": {
    "collapsed": true
   },
   "outputs": [],
   "source": [
    "#concept dictionary\n",
    "concept = [\n",
    "           [{'descriptive_statistics':3,'data_visualization':2,'hypothesis_testing':3,'inferential_statistics':2,\n",
    "            'optimization':1},\n",
    "            \n",
    "           {'linear_regression':1,'logistic_regression':2,'clustering':2,'classification':2,'embedding':1,'regularization':3,\n",
    "            'feature_engineering':2,'neural_network':3,'data_cleaning':1,'dimensionality_reduction':3,'gradient_descent':2,'bayes_theorem':2},\n",
    "\n",
    "           {'vector_image':1,'edge_detection':2,'light_color':1,'hough_transform':2,'mathmatical_modeling':3,\n",
    "            'cnn':2,'deep_networks':2,'dimensionality_reduction':2,'deep_learning':3,'data_cleaning':2}],\n",
    "          [[{},{},{}]], #software dev\n",
    "          [{},{},{}] #game dev\n",
    "         ]"
   ]
  },
  {
   "cell_type": "markdown",
   "metadata": {},
   "source": [
    "<h1>Generating concept dictionary using Natural Language Processing</h1>\n",
    "<img src = \"files/Domain_skill_vs_exp.png\">"
   ]
  },
  {
   "cell_type": "code",
   "execution_count": 7,
   "metadata": {
    "collapsed": true
   },
   "outputs": [],
   "source": [
    "### Candidate Data genration :P\n",
    "\n",
    "\n",
    "interest_domain = ['data science','data science','data science', 'data science', 'data science',\n",
    "                   'data science', 'data science', 'data science','Software development','Software development'\n",
    "                  ,'Software development','Software development','Software development','Software development'\n",
    "                  ,'Software development']\n",
    "\n",
    "skill = ['statistics,linear_algebra,sql,scikit_learn,keras,tensorflow', ## ML\n",
    "                         'image_processing,digital_signal_processing,opencv,openGL', ## ML\n",
    "                         'data_visualization,statistics,python,r,scripting,data_warehousing,msbi,sas,spss', ## Data analytics\n",
    "        'nlp,python,machine_learning,deep_learning,optimization', ## ML\n",
    "         'data_analysis,excel,mysql,machine_learning,statistics,predictive_modeling,python,r', ## ML\n",
    "         'aws,programming,java,spark,mysql,hdfs,algorithms,machine_learning,apache,spark,hadoop,javascript,angular_js,html,css',#ML\n",
    "        'robotics,embedded_c,python,opencv,tensorflow,matlab,object_detection', ##CV\n",
    "         'c,deep_learning,python,tensorflow,pytorch,c++,mathematical_modelling,openGL,matlab,c++', ##CV\n",
    "         'java,c++,c,html,css,javascript,rest_api,json,xml,sqllite,selenium,android_studio,eclipse', ## AD(android development)\n",
    "         'objective_c,swift,ios,html,css,javascript,xcode,xml,json', ## iOS \n",
    "         'swift,ios,python,selenium,shell_scrpting,mysql', ## iOS \n",
    "         'c,c++,java,objective_c,swift,xcode,cocoa_touch,xml,json,coredata,sqllite', ## iOS\n",
    "         'ajax,bootstrap,html,css,angular_js,javascript', ## WD\n",
    "         'angular_js,sql,dreamweaver,eclipse,html,css,bootstrap,jquery,javascript', ## WD\n",
    "         'angular_js,html,css,photoshop,ajax,javascript,reactjs,redux' ## WD\n",
    "        ]\n",
    "concept = ['descriptive_statistics,data_visualization,hypothesis_testing',\n",
    "           'linear_regression,logistic_regression,clustering,classification,embedding,regularization',\n",
    "           'vector_image,edge_detection,light_color,hough_transform,mathmatical_modeling']\n",
    "weight = ['2,1,1,1,1,1',  ## ML\n",
    "         '2,2,1,1',  ## Ml\n",
    "          '2,2,1,2,2,1,2,1,1', ## DA\n",
    "         '1,2,2,1,2', ## ML\n",
    "          '1,2,1,1,1,1,2,1', ## ML\n",
    "          '1,4,4,2,4,2,4,2,2,2,1,1,1,1,1',  ## ML\n",
    "          '1,1,1,1,1,1,1' , ## CV\n",
    "          '3,2,2,2,2,2,2,1,1,2' , ## CV\n",
    "          '3,3,3,1,1,1,1,1,1,1,1,1,1', ## AD\n",
    "          '1,1,4,2,2,2,1,1,2', ## iOS\n",
    "          '1,1,2,1,2,2', ## iOS\n",
    "          '2,2,3,3,3,3,1,2,1,2,2', ## iOS\n",
    "          '2,2,2,2,2,2', ## WD\n",
    "          '1,2,1,1,2,2,2,1,2', ## WD\n",
    "          '1,1,1,1,1,1,1,1', ## WD\n",
    "         ]\n",
    "\n",
    "cweight = ['2,2,1','3,3,2,2,2,1','3,3,2,2,3']\n",
    "\n",
    "d = {'interest' : pd.Series(interest_domain),\n",
    "     'skill': pd.Series(skill),\n",
    "     'skill_weights': pd.Series(weight),\n",
    "         'concept' : pd.Series(concept),\n",
    "    'concept_weights':pd.Series(cweight),\n",
    "    }\n",
    "d = pd.DataFrame(d)\n",
    "d['domain'] = pd.Series('U', index=d.index)\n",
    "d['domainID'] = pd.Series('', index=d.index)"
   ]
  },
  {
   "cell_type": "code",
   "execution_count": 8,
   "metadata": {},
   "outputs": [
    {
     "name": "stderr",
     "output_type": "stream",
     "text": [
      "Z:\\Anaconda\\Anaconda_setup_files\\lib\\site-packages\\plotly\\offline\\offline.py:459: UserWarning:\n",
      "\n",
      "Your filename `basic-bar` didn't end with .html. Adding .html to the end of your file.\n",
      "\n"
     ]
    },
    {
     "data": {
      "text/plain": [
       "'file://Z:\\\\Anaconda\\\\Anaconda_setup_files\\\\Scripts\\\\Workspace\\\\Hackathon\\\\basic-bar.html'"
      ]
     },
     "execution_count": 8,
     "metadata": {},
     "output_type": "execute_result"
    }
   ],
   "source": [
    "#skill chart\n",
    "import plotly.plotly as py\n",
    "import plotly\n",
    "import plotly.graph_objs as go\n",
    "\n",
    "data = [go.Bar(\n",
    "            x=['statistics','linear_algebr','sql','scikit_learn','keras','tensorflow'],\n",
    "            y=[2,1,1,1,1,1]\n",
    "    )]\n",
    "\n",
    "plotly.offline.plot(data, filename='basic-bar')"
   ]
  },
  {
   "cell_type": "markdown",
   "metadata": {},
   "source": [
    "<h1> skill chart of first candidate <h1/>"
   ]
  },
  {
   "cell_type": "markdown",
   "metadata": {},
   "source": [
    "\n",
    "<img src=\"skill_chart.jpg\"/>"
   ]
  },
  {
   "cell_type": "code",
   "execution_count": 9,
   "metadata": {},
   "outputs": [
    {
     "name": "stdout",
     "output_type": "stream",
     "text": [
      "Enter Candidate ID2\n"
     ]
    }
   ],
   "source": [
    "Id = input(\"Enter Candidate ID\")"
   ]
  },
  {
   "cell_type": "code",
   "execution_count": 10,
   "metadata": {},
   "outputs": [
    {
     "data": {
      "application/vnd.jupyter.widget-view+json": {
       "model_id": "92417cbf09b543309fb46d1b315b980f",
       "version_major": 2,
       "version_minor": 0
      },
      "text/plain": [
       "A Jupyter Widget"
      ]
     },
     "metadata": {},
     "output_type": "display_data"
    }
   ],
   "source": [
    "w = widgets.Select(\n",
    "        options=['Data Analyst','Machine Learning','Computer Vision',\n",
    "                     'Web Development(Front End)','Android Development','iOS Development',\n",
    "                     'Unity Game Development','Android Game Development','iOS Game Development'],\n",
    "        value='Machine Learning',\n",
    "        # rows=10,\n",
    "        description='Domain Choice:',\n",
    "        disabled=False\n",
    "    )\n",
    "display(w)\n",
    "# w.value\n",
    "# print(\"INPPP\", inp)\n",
    "\n",
    "\n"
   ]
  },
  {
   "cell_type": "code",
   "execution_count": 11,
   "metadata": {
    "collapsed": true
   },
   "outputs": [],
   "source": [
    "inp = w.value"
   ]
  },
  {
   "cell_type": "code",
   "execution_count": 12,
   "metadata": {},
   "outputs": [
    {
     "name": "stdout",
     "output_type": "stream",
     "text": [
      "Suggested skills for candidate 2 in Machine Learning are\n"
     ]
    }
   ],
   "source": [
    "dff = pd.DataFrame(columns = ['suggested skill','value'])\n",
    "suggestionSkills = []\n",
    "suggestionSkillsValue = []\n",
    "# suggestionConcepts = []\n",
    "p = int(Id)\n",
    "#     inp = input(\"Enter your interested domain\")\n",
    "## dropdown code skills[ Index for ]\n",
    "#     inp = 1\n",
    "candidateSkills = d.iloc[p][3].split(',')\n",
    "if(inp == 'Data Analyst'):\n",
    "    i = 0\n",
    "    j = 0\n",
    "elif(inp == 'Machine Learning'):\n",
    "    i = 0\n",
    "    j = 1\n",
    "elif(inp == 'Computer Vision'):\n",
    "    i = 0\n",
    "    j = 2\n",
    "elif(inp == 'Web Development(Front End)'):\n",
    "    i = 1\n",
    "    j = 0\n",
    "elif(inp == 'Android Development'):\n",
    "    i = 1\n",
    "    j = 1\n",
    "elif(inp == 'iOS Development'):\n",
    "    i = 1\n",
    "    j = 2\n",
    "elif(inp == 'Unity Game Development'):\n",
    "    i = 2\n",
    "    j = 0\n",
    "elif(inp == 'Android Game Development'):\n",
    "    i = 2\n",
    "    j = 1\n",
    "elif(inp == 'iOS Game Development'):\n",
    "    i = 2\n",
    "    j = 2\n",
    "checkSkills = list(skills[i][j].keys())  ## this will come candidate's choice  ,i.e. in which domain it wants to go \n",
    "checkSkillsValue = list(skills[i][j].values())\n",
    "# checkConcepts = list(skills[i][j].keys())\n",
    "for k in range(len(checkSkills)):\n",
    "    if((checkSkills[k] in candidateSkills) == False):\n",
    "        suggestionSkillsValue.append(checkSkillsValue[k])\n",
    "        suggestionSkills.append(checkSkills[k])\n",
    "print(\"Suggested skills for candidate\",Id, \"in\",inp, \"are\")\n",
    "li = []\n",
    "\n",
    "\n",
    "for j in range(len(suggestionSkills)):\n",
    "    if(suggestionSkillsValue[j]==1):\n",
    "        li.append([suggestionSkills[j],'Mandatory skill'])\n",
    "        dff=pd.DataFrame(li,columns = ['suggested skill','value'])\n",
    "    else:\n",
    "        li.append([suggestionSkills[j],'Supplementary skill'])\n",
    "        dff=pd.DataFrame(li,columns = ['suggested skill','value'])"
   ]
  },
  {
   "cell_type": "code",
   "execution_count": 13,
   "metadata": {},
   "outputs": [
    {
     "data": {
      "text/html": [
       "<div>\n",
       "<style>\n",
       "    .dataframe thead tr:only-child th {\n",
       "        text-align: right;\n",
       "    }\n",
       "\n",
       "    .dataframe thead th {\n",
       "        text-align: left;\n",
       "    }\n",
       "\n",
       "    .dataframe tbody tr th {\n",
       "        vertical-align: top;\n",
       "    }\n",
       "</style>\n",
       "<table border=\"1\" class=\"dataframe\">\n",
       "  <thead>\n",
       "    <tr style=\"text-align: right;\">\n",
       "      <th></th>\n",
       "      <th>suggested skill</th>\n",
       "      <th>value</th>\n",
       "    </tr>\n",
       "  </thead>\n",
       "  <tbody>\n",
       "    <tr>\n",
       "      <th>0</th>\n",
       "      <td>linear_algebra</td>\n",
       "      <td>Mandatory skill</td>\n",
       "    </tr>\n",
       "    <tr>\n",
       "      <th>1</th>\n",
       "      <td>sql</td>\n",
       "      <td>Supplementary skill</td>\n",
       "    </tr>\n",
       "    <tr>\n",
       "      <th>2</th>\n",
       "      <td>scikit_learn</td>\n",
       "      <td>Mandatory skill</td>\n",
       "    </tr>\n",
       "    <tr>\n",
       "      <th>3</th>\n",
       "      <td>keras</td>\n",
       "      <td>Supplementary skill</td>\n",
       "    </tr>\n",
       "    <tr>\n",
       "      <th>4</th>\n",
       "      <td>tensorflow</td>\n",
       "      <td>Supplementary skill</td>\n",
       "    </tr>\n",
       "    <tr>\n",
       "      <th>5</th>\n",
       "      <td>theano</td>\n",
       "      <td>Supplementary skill</td>\n",
       "    </tr>\n",
       "    <tr>\n",
       "      <th>6</th>\n",
       "      <td>hadoop</td>\n",
       "      <td>Supplementary skill</td>\n",
       "    </tr>\n",
       "    <tr>\n",
       "      <th>7</th>\n",
       "      <td>hbase</td>\n",
       "      <td>Supplementary skill</td>\n",
       "    </tr>\n",
       "    <tr>\n",
       "      <th>8</th>\n",
       "      <td>pig</td>\n",
       "      <td>Supplementary skill</td>\n",
       "    </tr>\n",
       "  </tbody>\n",
       "</table>\n",
       "</div>"
      ],
      "text/plain": [
       "  suggested skill                value\n",
       "0  linear_algebra      Mandatory skill\n",
       "1             sql  Supplementary skill\n",
       "2    scikit_learn      Mandatory skill\n",
       "3           keras  Supplementary skill\n",
       "4      tensorflow  Supplementary skill\n",
       "5          theano  Supplementary skill\n",
       "6          hadoop  Supplementary skill\n",
       "7           hbase  Supplementary skill\n",
       "8             pig  Supplementary skill"
      ]
     },
     "execution_count": 13,
     "metadata": {},
     "output_type": "execute_result"
    }
   ],
   "source": [
    "dff"
   ]
  },
  {
   "cell_type": "code",
   "execution_count": 14,
   "metadata": {
    "scrolled": true
   },
   "outputs": [
    {
     "name": "stderr",
     "output_type": "stream",
     "text": [
      "Z:\\Anaconda\\Anaconda_setup_files\\lib\\site-packages\\plotly\\offline\\offline.py:459: UserWarning:\n",
      "\n",
      "Your filename `basic-bar` didn't end with .html. Adding .html to the end of your file.\n",
      "\n"
     ]
    }
   ],
   "source": [
    "#domain recommendation\n",
    "#baseline model\n",
    "# 1st ML\n",
    "# 2nd Computer vision\n",
    "# 3rd DA\n",
    "\n",
    "\n",
    "indexer = ['Data Analyst','Machine Learning','Computer Vision','Web Development(Front End)', 'Android Development','iOS Development']\n",
    "first = 0\n",
    "for i in range(d.shape[0]):\n",
    "    #print(i)\n",
    "    score = [0]*6\n",
    "    skill = d.iloc[i][3].split(',')\n",
    "    #print(len(skill))\n",
    "    #print(\"skill len \",len(d.iloc[i][4].split(',')))\n",
    "    #print(\"skill \",skill)\n",
    "    for j in range(len(skill)):\n",
    "        flag = 0\n",
    "        temp = 0\n",
    "        #print(j)\n",
    "        for k in range(6):\n",
    "            #print(k)\n",
    "            temp = temp + 1\n",
    "            if(temp==4):\n",
    "                flag = flag + 1\n",
    "                temp = 0\n",
    "            l = list(skills[flag][k%3].keys())\n",
    "            #print(\"pair \",flag,\" \",k%3,\" \",k)\n",
    "            if((skill[j] in l) == True):\n",
    "                score[k] = score[k] + int(d.iloc[i][4].split(',')[j])\n",
    "    #print(score)\n",
    "    d.loc[i]['domain'] = indexer[np.argmax(score)]\n",
    "    d.loc[i]['domainID'] = np.argmax(score)\n",
    "    if(first==0):\n",
    "        data = [go.Bar(\n",
    "        x=['Data Analyst','Machine Learning','Computer Vision','Web Development(Front End)', 'Android Development','iOS Development'],\n",
    "        y=[3, 7, 6, 0, 1, 0]\n",
    "        )]\n",
    "        first = 1\n",
    "        plotly.offline.plot(data, filename='basic-bar')\n"
   ]
  },
  {
   "cell_type": "markdown",
   "metadata": {},
   "source": [
    "<h1>Domain score of candidate</h1>\n",
    "<h3>This graph will show that we recommend machine learning domain to candidate</h3>"
   ]
  },
  {
   "attachments": {},
   "cell_type": "markdown",
   "metadata": {},
   "source": [
    "<img src=\"files/job_recommended_chart.JPG\"/>"
   ]
  },
  {
   "cell_type": "markdown",
   "metadata": {},
   "source": [
    "<h1>In this model, we update ideal skill set from training data of candidate skill set.</h1>\n",
    "<h3>To update ideal skill set,<br/>First we recommend job domain.<br/>Then we update recommended domain's ideal skill set by adding some new skills from this candidate's skill set.(Because these new skills might be a part of that domain)<br/>Then we again manually filter out irrelevant skills from ideal skill set.</h3>"
   ]
  },
  {
   "cell_type": "code",
   "execution_count": 15,
   "metadata": {
    "collapsed": true
   },
   "outputs": [],
   "source": [
    "#IMPROVED MODEL\n",
    "\n",
    "indexer = ['Data Analyst','Machine Learning','Computer Vision','Web Development(Front End)', 'Android Development','iOS Development']\n",
    "indI = [0, 0, 0, 1,1, 1]\n",
    "indJ = [0, 1, 2,0, 1, 2]"
   ]
  },
  {
   "cell_type": "code",
   "execution_count": 16,
   "metadata": {
    "collapsed": true
   },
   "outputs": [],
   "source": [
    "#updating ideal skill set based on new candidates data and expert review\n",
    "for i in range(d.shape[0]):\n",
    "    skill = d.iloc[i][3].split(',')\n",
    "    domainID = d.loc[i]['domainID']\n",
    "    for j in range(len(skill)):\n",
    "        if((skill[j] in skills[ indI[domainID] ] [ indJ[domainID] ]) == False ):\n",
    "            skills[ indI[domainID] ] [ indJ[domainID] ].update({skill[j]: 2})\n",
    "            "
   ]
  },
  {
   "cell_type": "code",
   "execution_count": 17,
   "metadata": {},
   "outputs": [],
   "source": [
    "## deleting web development entries\n",
    "del skills[1][0]['hadoop']\n",
    "del skills[1][0]['hdfs']\n",
    "del skills[1][0]['machine_learning']\n",
    "del skills[1][0]['spark']\n",
    "del skills[1][1]['css']\n",
    "#del skills[1][1]['rest']\n",
    "del skills[1][2]['cocoa_touch']\n",
    "del skills[1][2]['coredata']\n",
    "del skills[1][2]['objective_c']\n",
    "del skills[1][2]['python']\n",
    "\n",
    "### We successfuully deleted the skills entries which shouldn't be in the IDEAL SKILL SET"
   ]
  },
  {
   "cell_type": "code",
   "execution_count": 18,
   "metadata": {},
   "outputs": [
    {
     "name": "stderr",
     "output_type": "stream",
     "text": [
      "Z:\\Anaconda\\Anaconda_setup_files\\lib\\site-packages\\plotly\\offline\\offline.py:459: UserWarning:\n",
      "\n",
      "Your filename `basic-bar` didn't end with .html. Adding .html to the end of your file.\n",
      "\n"
     ]
    },
    {
     "data": {
      "text/plain": [
       "'file://Z:\\\\Anaconda\\\\Anaconda_setup_files\\\\Scripts\\\\Workspace\\\\Hackathon\\\\basic-bar.html'"
      ]
     },
     "execution_count": 18,
     "metadata": {},
     "output_type": "execute_result"
    }
   ],
   "source": [
    "#skill recommendation (IMPROVED)\n",
    "#1. First our system will analyze best domain match for user by using experience years(weight)\n",
    "#in that skill\n",
    "#2. then we just use our baseline approach to recommend missing skill\n",
    "\n",
    "#take new candidate's skill and weight data\n",
    "test = ['data_warehousing','data_visualization','tableau','msbi','excel','r']\n",
    "\n",
    "test_weight = [1,2,1,2,2,1]\n",
    "\n",
    "\n",
    "test_score = [0]*6\n",
    "\n",
    "for i in range(len(test)):\n",
    "    flag = 0\n",
    "    temp = 0    \n",
    "    for k in range(6):\n",
    "                #print(k)\n",
    "                temp = temp + 1\n",
    "                if(temp==4):\n",
    "                    flag = flag + 1\n",
    "                    temp = 0\n",
    "                l = list(skills[flag][k%3].keys())\n",
    "                #print(\"pair \",flag,\" \",k%3,\" \",k)\n",
    "                if((test[i] in l) == True):\n",
    "                    test_score[k] = test_score[k] + test_weight[i]\n",
    "\n",
    "test_domain = indexer[np.argmax(test_score)]\n",
    "test_domain\n",
    "data = [go.Bar(\n",
    "x=['Data Analyst','Machine Learning','Computer Vision','Web Development(Front End)', 'Android Development','iOS Development'],\n",
    "y=test_score\n",
    ")]\n",
    "first = 1\n",
    "plotly.offline.plot(data, filename='basic-bar')\n"
   ]
  },
  {
   "cell_type": "markdown",
   "metadata": {},
   "source": [
    "<h2>Below graph is plotting domain score of new candidate(test data) using IMPROVED model.</h2>"
   ]
  },
  {
   "attachments": {},
   "cell_type": "markdown",
   "metadata": {},
   "source": [
    "<img src=\"files/data_analysis_chart.jpg\">"
   ]
  },
  {
   "cell_type": "markdown",
   "metadata": {},
   "source": [
    "<h2>After looking at graph, we can recommend domain \"Data Analyst\" for this new candidate.</h2>"
   ]
  },
  {
   "cell_type": "markdown",
   "metadata": {},
   "source": [
    "<h1>Ideal skill set vs Candidate's skill set</h1>\n",
    "<img src = \"files/ideal_vs_candidate.png\">"
   ]
  },
  {
   "cell_type": "code",
   "execution_count": 19,
   "metadata": {
    "collapsed": true
   },
   "outputs": [],
   "source": [
    "#test data for domain recommedation (IMPROVED)\n",
    "test = ['html','css','xml','ios','python','swift','javascript']\n",
    "\n",
    "test_weight = [1,1,1,2,1,2,1]\n",
    "\n",
    "test = ['bootstrap','java','html','javasript','jquery','php','reactjs','wordpress']\n",
    "\n",
    "test_weight = [2,1,2,2,2,1,1,2]\n",
    "\n",
    "test = ['data_warehousing','data_visualization','tableau','msbi','excel','r']\n",
    "\n",
    "test_weight = [1,2,1,2,2,1]\n"
   ]
  },
  {
   "cell_type": "code",
   "execution_count": null,
   "metadata": {
    "collapsed": true
   },
   "outputs": [],
   "source": [
    "#employee recommendation based on score\n",
    "#get job description\n",
    "#give score to each candidate for that job description\n",
    "#pick up candidate with high score\n",
    "\n",
    "#here give score based on importance of skillset and concept set\n",
    "#importance is derived from giving weight to skills\n",
    "#high weight skills are taken from important employee skill set and ideal skill set"
   ]
  },
  {
   "cell_type": "code",
   "execution_count": null,
   "metadata": {
    "collapsed": true
   },
   "outputs": [],
   "source": [
    "#employee recommendation based on similarity\n",
    "#get candidate skill set and concept set\n",
    "#get skill set of employees of similar type of company\n",
    "#rate those employees\n",
    "#pick top employees and find similar employees in our database\n",
    "#pick best suitable candidate for them (using employee skill data)"
   ]
  },
  {
   "cell_type": "code",
   "execution_count": null,
   "metadata": {
    "collapsed": true
   },
   "outputs": [],
   "source": [
    "#company recommendation\n",
    "#get candidate skill set\n",
    "#find nearest employee set and pick most common company occurence and give it to the user"
   ]
  },
  {
   "cell_type": "code",
   "execution_count": null,
   "metadata": {
    "collapsed": true
   },
   "outputs": [],
   "source": [
    "#Domain(Job) recommendation (done)\n",
    "#get candidate skill set\n",
    "#give different score to this candidate in different domain\n",
    "#pick highest score domain and say user to do job in this domain\n",
    "\n",
    "#skill(Job) recommendation (done)\n",
    "#1. give missing skills from ideal skill set\n",
    "#2. use candidate data and give them domain labels using \"Domain Recommendation algo\"\n",
    "#   now update ideal skill set to capture trending skill set \n",
    "#   after this use updated ideal skill set to recommend missings skills (IMPROVED version)"
   ]
  }
 ],
 "metadata": {
  "kernelspec": {
   "display_name": "Python 3",
   "language": "python",
   "name": "python3"
  },
  "language_info": {
   "codemirror_mode": {
    "name": "ipython",
    "version": 3
   },
   "file_extension": ".py",
   "mimetype": "text/x-python",
   "name": "python",
   "nbconvert_exporter": "python",
   "pygments_lexer": "ipython3",
   "version": "3.6.3"
  }
 },
 "nbformat": 4,
 "nbformat_minor": 2
}
